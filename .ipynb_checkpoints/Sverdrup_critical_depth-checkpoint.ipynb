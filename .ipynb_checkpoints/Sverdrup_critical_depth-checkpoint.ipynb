{
 "cells": [
  {
   "cell_type": "markdown",
   "metadata": {},
   "source": [
    "#### Sverdrup's critical depth \n",
    "\n",
    "A (fairly rough) version of Sverdrup's simple model of the critical depth. In a simple water column where the only (or main) processes are photosynthesis and respiration, Sverdrup and others proposed that there is a point where the rate of production by photosynthesis is matched by the rate of respiration, referred to as the conpensation depth. In order for a phytoplankton bloom at the surface, 'organic matter' production must exceed loss to microbiological respiration, so there should be a cross-over, or critical, depth, above which phytoplankton biomass can accumulate. \n",
    "\n",
    "There have been a couple of interesting developments on this idea recently, and I thought it would be good to have a digital version and set of computations of the original idea. The have been a number of developments of the orginal idea, which doesn't for example consider grazers, the plot below is really just to give an intuitive interpretation.\n",
    "\n",
    "As with most papers this old, finding the data was impossible, so this is done using data I pulled from the orginal figure with a plot digitiser. The paper can be found here https://tinyurl.com/ycl2nuxx."
   ]
  },
  {
   "cell_type": "code",
   "execution_count": 1,
   "metadata": {},
   "outputs": [],
   "source": [
    "import matplotlib.pyplot as plt\n",
    "import numpy as np\n",
    "import ipywidgets as widgets\n",
    "from sv_functions import Iz, high_noon, get_me_data, crit_depth_calc, stop_duplicate_labels"
   ]
  },
  {
   "cell_type": "code",
   "execution_count": 2,
   "metadata": {},
   "outputs": [],
   "source": [
    "# vertical section \n",
    "z = np.linspace(0, 500, 500).round()\n",
    "\n",
    "# relevant days of the year\n",
    "ds = np.linspace(60,151,91).round() \n",
    "padding = np.ones(shape=(409,))\n",
    "days = np.concatenate((ds,padding), axis=0)"
   ]
  },
  {
   "cell_type": "code",
   "execution_count": 3,
   "metadata": {},
   "outputs": [],
   "source": [
    "# geog' params\n",
    "latitude = 66    # The weather ships location\n",
    "\n",
    "# solar radiation\n",
    "# atmospheric constants\n",
    "a = 0.08                               # fraction reflected on a completely overcast day\n",
    "sol_alt = high_noon(latitude, days)[0]      # noon altitude of the sun\n",
    "C = 1                                  # 'Cloudiness' on a scale of 1 to 10. Set to 1, but I'm unsure how it relates to a.\n",
    "\n",
    "# water column constants     \n",
    "k = 0.1                                # extinction coeff      \n",
    "eff_frac = 0.2                         # rough fraction relevant for photosynthesis \n",
    "\n",
    "# Energy calcs\n",
    "I_0 = sol_alt * (0.026 * (1-(0.075 * C)))    # I_0 estimate for each day from Mosbys formula\n",
    "\n",
    "I_e = eff_frac * (1-a) * I_0               # fraction relevant for photosynthesis that passes through the surface\n",
    "\n",
    "I_z = Iz(z, I_e, k)                      # energy at depth, for each day. Not really needed.\n",
    "\n",
    "# the energy available at the conpensation depth should be the same for both k = 0.1 and 0.075, but the data extraction \n",
    "# adds noise. If you take the mean of each dataset, you get 0.0148 and 0.0137 respectively. The error is a bit uncertain...\n",
    "\n",
    "I_c = 0.0145  "
   ]
  },
  {
   "cell_type": "markdown",
   "metadata": {},
   "source": [
    "The cloudiness value, C, makes it essentially impossible to closely recreate the original curve without the observations from the weather ship."
   ]
  },
  {
   "cell_type": "code",
   "execution_count": 4,
   "metadata": {},
   "outputs": [],
   "source": [
    "# Finding the critical depth\n",
    "\n",
    "# get estimate of I_c from the data \n",
    "# z(I_c) = z(R=P), solve from below. No values for the m/n term in the paper, so I use the critical depth values from the \n",
    "# paper, with my calculated I_e values.\n",
    "\n",
    "Dcr_data_k01 = get_me_data()[0][1:,1]   # data for upper line from fig 2\n",
    "Dcr_data_k0075 = get_me_data()[1][1:,1]  # lower line from fig 2\n",
    "\n",
    "# time for each\n",
    "time_k01 = get_me_data()[0][1:,0]\n",
    "time_k0075 = get_me_data()[1][1:,0]\n",
    "\n",
    "# My critical depth\n",
    "\n",
    "D_cr = crit_depth_calc(k, I_c, I_e, ds)\n",
    "\n",
    "time_D_cr = np.linspace(1,len(ds),len(ds)).round()"
   ]
  },
  {
   "cell_type": "code",
   "execution_count": 5,
   "metadata": {},
   "outputs": [
    {
     "data": {
      "application/vnd.jupyter.widget-view+json": {
       "model_id": "39df69c3069549c3acb0a545517fdbc8",
       "version_major": 2,
       "version_minor": 0
      },
      "text/plain": [
       "Canvas(toolbar=Toolbar(toolitems=[('Home', 'Reset original view', 'home', 'home'), ('Back', 'Back to previous …"
      ]
     },
     "metadata": {},
     "output_type": "display_data"
    },
    {
     "data": {
      "application/vnd.jupyter.widget-view+json": {
       "model_id": "dceefb2aac194b3da8ecfad6cf28a638",
       "version_major": 2,
       "version_minor": 0
      },
      "text/plain": [
       "interactive(children=(FloatSlider(value=0.09, description='k', max=0.15, min=0.05, step=0.001), Output()), _do…"
      ]
     },
     "metadata": {},
     "output_type": "display_data"
    }
   ],
   "source": [
    "# plotting\n",
    "%matplotlib widget\n",
    "\n",
    "fig1, ax1 = plt.subplots(figsize=(9,4))\n",
    "plt.title(\"Sverdrup's Figure 2\")\n",
    "\n",
    "ax1.set_ylim([0, 250])\n",
    "ax1.set_ylabel('Depth (m)')\n",
    "fig1.gca().invert_yaxis()\n",
    "ax1.set_xlabel('Day')  \n",
    "\n",
    "@widgets.interact(k=(0.05, 0.15, 0.001))\n",
    "\n",
    "def update_plot(k=0.09):\n",
    "    \n",
    "    [my_curve.remove() for my_curve in ax1.lines]\n",
    "\n",
    "    my_curve = ax1.plot(time_D_cr, crit_depth_calc(k, I_c, I_e, ds), color='green', label='Estimate')\n",
    "    ax1.plot(time_k01, Dcr_data_k01, color = 'blue', label='k = 0.1')\n",
    "    ax1.plot(time_k0075, Dcr_data_k0075, color = 'black', label='k = 0.075')\n",
    "    \n",
    "    stop_duplicate_labels(ax1)"
   ]
  },
  {
   "cell_type": "markdown",
   "metadata": {},
   "source": [
    "There is a reasonable agreement between my estimate and the original values. But as I couldn't find original values of 'C', this is a surprsingly good fit. I didn't solve for them as this already uses estimates of I_0, which is just the noon value."
   ]
  }
 ],
 "metadata": {
  "kernelspec": {
   "display_name": "Python 3",
   "language": "python",
   "name": "python3"
  },
  "language_info": {
   "codemirror_mode": {
    "name": "ipython",
    "version": 3
   },
   "file_extension": ".py",
   "mimetype": "text/x-python",
   "name": "python",
   "nbconvert_exporter": "python",
   "pygments_lexer": "ipython3",
   "version": "3.8.3"
  }
 },
 "nbformat": 4,
 "nbformat_minor": 4
}
